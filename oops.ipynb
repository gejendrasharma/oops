{
 "cells": [
  {
   "cell_type": "markdown",
   "id": "fc5eba52-3411-4d06-8396-2c5233da1608",
   "metadata": {},
   "source": [
    "Q1>>What are the five key concepts of Object-Oriented Programming (OOP)?"
   ]
  },
  {
   "cell_type": "markdown",
   "id": "98c2acce-8f5a-4795-9c09-4a88499e715b",
   "metadata": {},
   "source": [
    "\n",
    "Object-Oriented Programming (OOP) revolves around five key concepts:\n",
    "\n",
    "1.Encapsulation>>\n",
    "Encapsulation involves bundling data (attributes) and methods (functions) that operate on the data into a single unit, called a class.\n",
    "\n",
    "2.Abstraction>>\n",
    "Abstraction hides the complex implementation details and exposes only the essential features or behaviors of an object.\n",
    "\n",
    "3.Inheritance>>\n",
    "Inheritance allows one class (child/subclass) to inherit properties and behaviors from another class (parent/superclass).\n",
    "\n",
    "4.Polymorphism>>\n",
    "Polymorphism allows objects of different classes to be treated as objects of a common superclass, typically through method overriding or overloading.\n",
    "\n",
    "5.Class and Object Relationship>>\n",
    "A class is a blueprint or template for creating objects, defining their properties (attributes) and behaviors (methods).\n"
   ]
  },
  {
   "cell_type": "markdown",
   "id": "f29ccf7f-9498-412c-b162-495948f627bb",
   "metadata": {},
   "source": [
    "Q2>>Write a Python class for a `Car` with attributes for `make`, `model`, and `year`. Include a method to display\n",
    "the car's information."
   ]
  },
  {
   "cell_type": "code",
   "execution_count": 1,
   "id": "8784eb03-aae6-410d-bf2d-18647af6aece",
   "metadata": {},
   "outputs": [
    {
     "name": "stdout",
     "output_type": "stream",
     "text": [
      "2020 Toyota Corolla\n"
     ]
    }
   ],
   "source": [
    "class Car:\n",
    "    def __init__(self, make, model, year):\n",
    "        \"\"\"Initialize the Car object with make, model, and year.\"\"\"\n",
    "        self.make = make\n",
    "        self.model = model\n",
    "        self.year = year\n",
    "\n",
    "    def display_info(self):\n",
    "        print(f\"{self.year} {self.make} {self.model}\")\n",
    "\n",
    "# Example usage:\n",
    "my_car = Car(\"Toyota\", \"Corolla\", 2020)\n",
    "my_car.display_info()  "
   ]
  },
  {
   "cell_type": "markdown",
   "id": "9d43f571-9281-43d2-a7cc-97d3706448f0",
   "metadata": {},
   "source": [
    "Q3>>Explain the difference between instance methods and class methods. Provide an example of each."
   ]
  },
  {
   "cell_type": "markdown",
   "id": "08685aa5-0796-4590-93ae-1bda4968d578",
   "metadata": {},
   "source": [
    "Instance Method>>\n",
    "Instance methods are tied to an instance and often interact with instance attributes.\n",
    "\n"
   ]
  },
  {
   "cell_type": "code",
   "execution_count": 2,
   "id": "b6f5572d-df89-4eee-916b-fe706fb37a3b",
   "metadata": {},
   "outputs": [
    {
     "name": "stdout",
     "output_type": "stream",
     "text": [
      "2020 Toyota Corolla\n"
     ]
    }
   ],
   "source": [
    "class Car:\n",
    "    def __init__(self, make, model, year):\n",
    "        self.make = make\n",
    "        self.model = model\n",
    "        self.year = year\n",
    "\n",
    "    def display_info(self):\n",
    "        \"\"\"Instance method that displays car information.\"\"\"\n",
    "        print(f\"{self.year} {self.make} {self.model}\")\n",
    "\n",
    "# Example usage:\n",
    "my_car = Car(\"Toyota\", \"Corolla\", 2020)\n",
    "my_car.display_info()"
   ]
  },
  {
   "cell_type": "markdown",
   "id": "bdf3404c-4383-442d-ae04-9ff305e5d063",
   "metadata": {},
   "source": [
    "Class Method>>\n",
    "Class methods are tied to the class itself and usually handle class-level operations.\n"
   ]
  },
  {
   "cell_type": "code",
   "execution_count": 3,
   "id": "3b56fb74-1541-4d40-bfe0-4b70d33ca413",
   "metadata": {},
   "outputs": [
    {
     "name": "stdout",
     "output_type": "stream",
     "text": [
      "Global Auto Co.\n"
     ]
    }
   ],
   "source": [
    "class Car:\n",
    "    manufacturer = \"Generic Manufacturer\"  # Class-level attribute\n",
    "\n",
    "    def __init__(self, make, model, year):\n",
    "        self.make = make\n",
    "        self.model = model\n",
    "        self.year = year\n",
    "\n",
    "    @classmethod\n",
    "    def set_manufacturer(cls, name):\n",
    "        \"\"\"Class method to set the manufacturer.\"\"\"\n",
    "        cls.manufacturer = name\n",
    "\n",
    "    @classmethod\n",
    "    def get_manufacturer(cls):\n",
    "        \"\"\"Class method to get the manufacturer.\"\"\"\n",
    "        return cls.manufacturer\n",
    "\n",
    "# Example usage:\n",
    "Car.set_manufacturer(\"Global Auto Co.\")\n",
    "print(Car.get_manufacturer())"
   ]
  },
  {
   "cell_type": "markdown",
   "id": "650d6af3-8698-42f8-b058-217aaf0e4a1f",
   "metadata": {},
   "source": [
    "Q4>>How does Python implement method overloading? Give an example."
   ]
  },
  {
   "cell_type": "markdown",
   "id": "9a4bb32d-d320-44d9-8218-35bc91b7b7d8",
   "metadata": {},
   "source": [
    "Python does not directly support method overloading like some other languages (e.g., Java or C++), where multiple methods in the same class can have the same name but differ in parameters. Instead, Python achieves similar functionality using default arguments, *args, and **kwargs to handle a variable number of parameters in a single method.\n",
    "\n"
   ]
  },
  {
   "cell_type": "code",
   "execution_count": 4,
   "id": "c4bd9426-1758-4df4-8de2-01e492f995f5",
   "metadata": {},
   "outputs": [
    {
     "name": "stdout",
     "output_type": "stream",
     "text": [
      "5\n",
      "15\n",
      "30\n"
     ]
    }
   ],
   "source": [
    "class Calculator:\n",
    "    def add(self, *args):\n",
    "        \"\"\"Adds a variable number of arguments.\"\"\"\n",
    "        return sum(args)\n",
    "\n",
    "# Example usage:\n",
    "calc = Calculator()\n",
    "\n",
    "print(calc.add(5))           # Output: 5\n",
    "print(calc.add(5, 10))       # Output: 15\n",
    "print(calc.add(5, 10, 15))"
   ]
  },
  {
   "cell_type": "markdown",
   "id": "94c260cc-7edc-4348-8bb3-d585c4f9b361",
   "metadata": {},
   "source": [
    "Q5>>What are the three types of access modifiers in Python? How are they denoted?"
   ]
  },
  {
   "cell_type": "markdown",
   "id": "d9ed6312-e5d2-4678-969c-36fa1666fb58",
   "metadata": {},
   "source": [
    "\n",
    "Python has three types of access modifiers to define the visibility and accessibility of class members (attributes and methods). These are:\n",
    "\n",
    "1. Public>>\n",
    "Definition: Public members are accessible from anywhere, both inside and outside the class.\n",
    "Denotation: No special prefix; the name is written as it is.\n",
    "Example"
   ]
  },
  {
   "cell_type": "code",
   "execution_count": 5,
   "id": "7476f44a-c5ad-4f97-b927-2090a694f154",
   "metadata": {},
   "outputs": [
    {
     "name": "stdout",
     "output_type": "stream",
     "text": [
      "Toyota\n",
      "Car make: Toyota\n"
     ]
    }
   ],
   "source": [
    "class Car:\n",
    "    def __init__(self, make):\n",
    "        self.make = make  # Public attribute\n",
    "\n",
    "    def display_make(self):  # Public method\n",
    "        print(f\"Car make: {self.make}\")\n",
    "\n",
    "car = Car(\"Toyota\")\n",
    "print(car.make)  # Accessible outside the class\n",
    "car.display_make()  "
   ]
  },
  {
   "cell_type": "markdown",
   "id": "a1ad10a3-7588-4d94-9095-bd8a9acc4956",
   "metadata": {},
   "source": [
    "2. Protected>>\n",
    "Definition: Protected members are accessible within the class and its subclasses. By convention, they should not be accessed directly outside the class, but they can be (Python doesn't enforce this).\n",
    "\n",
    "Denotation: A single underscore _ prefix before the name.\n"
   ]
  },
  {
   "cell_type": "code",
   "execution_count": 6,
   "id": "20b27a60-b0cd-444d-b9be-036df8541948",
   "metadata": {},
   "outputs": [
    {
     "name": "stdout",
     "output_type": "stream",
     "text": [
      "Toyota\n",
      "Car make: Toyota\n"
     ]
    }
   ],
   "source": [
    "class Car:\n",
    "    def __init__(self, make):\n",
    "        self._make = make\n",
    "\n",
    "    def _display_make(self): \n",
    "        print(f\"Car make: {self._make}\")\n",
    "\n",
    "class SportsCar(Car):\n",
    "    def show_make(self):\n",
    "        print(f\"Sports Car make: {self._make}\") \n",
    "\n",
    "car = Car(\"Toyota\")\n",
    "print(car._make)\n",
    "car._display_make()  "
   ]
  },
  {
   "cell_type": "markdown",
   "id": "0c2cdd9a-3e0c-4854-9c37-cb075b5baa54",
   "metadata": {},
   "source": [
    "3. Private>>\n",
    "Definition: Private members are accessible only within the class in which they are defined. They cannot be accessed directly from outside the class or subclasses.\n",
    "\n",
    "Denotation: A double underscore __ prefix before the name."
   ]
  },
  {
   "cell_type": "code",
   "execution_count": 7,
   "id": "fa76f9d3-45ab-4c35-828b-874b2a3ba74a",
   "metadata": {},
   "outputs": [
    {
     "name": "stdout",
     "output_type": "stream",
     "text": [
      "Car make: Toyota\n"
     ]
    }
   ],
   "source": [
    "class Car:\n",
    "    def __init__(self, make):\n",
    "        self.__make = make  # Private attribute\n",
    "\n",
    "    def __display_make(self):  # Private method\n",
    "        print(f\"Car make: {self.__make}\")\n",
    "\n",
    "    def public_method(self):\n",
    "        self.__display_make()\n",
    "car = Car(\"Toyota\")\n",
    "\n",
    "car.public_method() "
   ]
  },
  {
   "cell_type": "markdown",
   "id": "a91ebafe-f80f-4c1e-9b40-4a26d083d637",
   "metadata": {},
   "source": [
    "Q6>>Describe the five types of inheritance in Python. Provide a simple example of multiple inheritance."
   ]
  },
  {
   "cell_type": "markdown",
   "id": "84e0ff5b-97c1-433e-a89d-3aebac9e4f93",
   "metadata": {},
   "source": [
    "\n",
    "Five Types of Inheritance in Python\n",
    "\n",
    "1.Single Inheritance>>\n",
    "A child class inherits from one parent class."
   ]
  },
  {
   "cell_type": "markdown",
   "id": "e1e38e46-171d-4b09-bd08-6e229c1de379",
   "metadata": {},
   "source": [
    "2.Multiple Inheritance>>\n",
    "A child class inherits from more than one parent class."
   ]
  },
  {
   "cell_type": "markdown",
   "id": "3ab077a7-7f59-4d35-8a82-a2f5e2ae7a05",
   "metadata": {},
   "source": [
    "3.Multilevel Inheritance>>\n",
    "A chain of inheritance where a child class becomes the parent for another child class."
   ]
  },
  {
   "cell_type": "markdown",
   "id": "9def8c94-7fd2-4aed-bdce-d08b729ec5de",
   "metadata": {},
   "source": [
    "4.Hierarchical Inheritance>>\n",
    "Multiple child classes inherit from a single parent class.\n"
   ]
  },
  {
   "cell_type": "markdown",
   "id": "9efa3ed2-158a-48a6-92f8-cdd4f77be9f1",
   "metadata": {},
   "source": [
    "5.Hybrid Inheritance>>\n",
    "A mix of two or more types of inheritance, combining multiple inheritance styles."
   ]
  },
  {
   "cell_type": "markdown",
   "id": "b2c89f61-bea7-4763-99af-9a05b08a4f8a",
   "metadata": {},
   "source": [
    "Provide a simple example of multiple inheritanc>>"
   ]
  },
  {
   "cell_type": "code",
   "execution_count": 9,
   "id": "0461f44a-10fb-4726-a732-f5f619d2fb45",
   "metadata": {},
   "outputs": [
    {
     "name": "stdout",
     "output_type": "stream",
     "text": [
      "Hello from Parent1\n",
      "Goodbye from Parent2\n"
     ]
    }
   ],
   "source": [
    "class Parent1:\n",
    "    def greet(self):\n",
    "        print(\"Hello from Parent1\")\n",
    "\n",
    "class Parent2:\n",
    "    def farewell(self):\n",
    "        print(\"Goodbye from Parent2\")\n",
    "\n",
    "class Child(Parent1, Parent2):\n",
    "    pass\n",
    "\n",
    "obj = Child()\n",
    "obj.greet()    # Output: Hello from Parent1\n",
    "obj.farewell()"
   ]
  },
  {
   "cell_type": "markdown",
   "id": "abcc9ac9-3d61-4abc-8ebd-054d7a0ee6f7",
   "metadata": {},
   "source": [
    "Q7>>What is the Method Resolution Order (MRO) in Python? How can you retrieve it programmatically?"
   ]
  },
  {
   "cell_type": "markdown",
   "id": "9ee43d67-59b2-417a-ba1e-8da652a58ff2",
   "metadata": {},
   "source": [
    "What is the Method Resolution Order (MRO) in Python?\n",
    "The Method Resolution Order (MRO) in Python defines the sequence in which Python looks for a method or attribute in a hierarchy of classes during inheritance. It ensures that the method or attribute is resolved in the correct order, avoiding conflicts, especially in the case of multiple inheritance.\n",
    "\n"
   ]
  },
  {
   "cell_type": "markdown",
   "id": "c7a0457f-8705-4f35-ae1e-72fcdbb20f63",
   "metadata": {},
   "source": [
    "How to Retrieve MRO Programmatically\n",
    "You can retrieve the MRO of a class using:\n",
    "\n",
    "1.The mro() method.\n",
    "\n",
    "2.The __mro__ attribute."
   ]
  },
  {
   "cell_type": "code",
   "execution_count": 10,
   "id": "5c07d5a0-195d-4b92-8c0a-ecb06e045115",
   "metadata": {},
   "outputs": [
    {
     "name": "stdout",
     "output_type": "stream",
     "text": [
      "[<class '__main__.D'>, <class '__main__.B'>, <class '__main__.C'>, <class '__main__.A'>, <class 'object'>]\n",
      "(<class '__main__.D'>, <class '__main__.B'>, <class '__main__.C'>, <class '__main__.A'>, <class 'object'>)\n",
      "B\n"
     ]
    }
   ],
   "source": [
    "class A:\n",
    "    def show(self):\n",
    "        print(\"A\")\n",
    "\n",
    "class B(A):\n",
    "    def show(self):\n",
    "        print(\"B\")\n",
    "\n",
    "class C(A):\n",
    "    def show(self):\n",
    "        print(\"C\")\n",
    "\n",
    "class D(B, C):\n",
    "    pass\n",
    "\n",
    "# Retrieve MRO\n",
    "print(D.mro())  \n",
    "print(D.__mro__)  \n",
    "\n",
    "# Example usage\n",
    "obj = D()\n",
    "obj.show()"
   ]
  },
  {
   "cell_type": "markdown",
   "id": "023d269d-8dab-4c64-bcb2-67fbfe0b5474",
   "metadata": {},
   "source": [
    "Q8>>Create an abstract base class `Shape` with an abstract method `area()`. Then create two subclasses\n",
    "`Circle` and `Rectangle` that implement the `area()` method."
   ]
  },
  {
   "cell_type": "code",
   "execution_count": 11,
   "id": "067e5c5d-b155-4f16-8fd4-42755fdf0347",
   "metadata": {},
   "outputs": [
    {
     "name": "stdout",
     "output_type": "stream",
     "text": [
      "Circle area: 78.54\n",
      "Rectangle area: 24\n"
     ]
    }
   ],
   "source": [
    "from abc import ABC, abstractmethod\n",
    "import math\n",
    "\n",
    "class Shape(ABC):\n",
    "    @abstractmethod\n",
    "    def area(self):\n",
    "        pass\n",
    "\n",
    "class Circle(Shape):\n",
    "    def __init__(self, radius):\n",
    "        self.radius = radius\n",
    "\n",
    "    def area(self):\n",
    "        return math.pi * (self.radius ** 2)\n",
    "\n",
    "class Rectangle(Shape):\n",
    "    def __init__(self, width, height):\n",
    "        self.width = width\n",
    "        self.height = height\n",
    "\n",
    "    def area(self):\n",
    "        return self.width * self.height\n",
    "\n",
    "\n",
    "circle = Circle(5)\n",
    "rectangle = Rectangle(4, 6)\n",
    "\n",
    "print(f\"Circle area: {circle.area():.2f}\") \n",
    "print(f\"Rectangle area: {rectangle.area()}\")  "
   ]
  },
  {
   "cell_type": "markdown",
   "id": "1a504497-3002-49a5-95d0-e4b99cbc4468",
   "metadata": {},
   "source": [
    "Q9>>Demonstrate polymorphism by creating a function that can work with different shape objects to calculate\n",
    "and print their areas."
   ]
  },
  {
   "cell_type": "code",
   "execution_count": 12,
   "id": "e9f3be67-7f66-41ec-a723-afa0bd31f227",
   "metadata": {},
   "outputs": [
    {
     "name": "stdout",
     "output_type": "stream",
     "text": [
      "The area of the Circle is: 78.54\n",
      "The area of the Rectangle is: 24.00\n",
      "The area of the Triangle is: 10.50\n"
     ]
    }
   ],
   "source": [
    "from abc import ABC, abstractmethod\n",
    "import math\n",
    "\n",
    "# Abstract base class\n",
    "class Shape(ABC):\n",
    "    @abstractmethod\n",
    "    def area(self):\n",
    "        \"\"\"Abstract method to calculate the area of the shape.\"\"\"\n",
    "        pass\n",
    "\n",
    "# Subclass for Circle\n",
    "class Circle(Shape):\n",
    "    def __init__(self, radius):\n",
    "        self.radius = radius\n",
    "\n",
    "    def area(self):\n",
    "        return math.pi * (self.radius ** 2)\n",
    "\n",
    "# Subclass for Rectangle\n",
    "class Rectangle(Shape):\n",
    "    def __init__(self, width, height):\n",
    "        self.width = width\n",
    "        self.height = height\n",
    "\n",
    "    def area(self):\n",
    "        return self.width * self.height\n",
    "\n",
    "# Subclass for Triangle\n",
    "class Triangle(Shape):\n",
    "    def __init__(self, base, height):\n",
    "        self.base = base\n",
    "        self.height = height\n",
    "\n",
    "    def area(self):\n",
    "        return 0.5 * self.base * self.height\n",
    "\n",
    "# Polymorphic function to calculate and print area\n",
    "def print_area(shape):\n",
    "    \"\"\"Polymorphic function to calculate and print the area of any shape.\"\"\"\n",
    "    print(f\"The area of the {shape.__class__.__name__} is: {shape.area():.2f}\")\n",
    "\n",
    "# Example usage:\n",
    "circle = Circle(5)\n",
    "rectangle = Rectangle(4, 6)\n",
    "triangle = Triangle(3, 7)\n",
    "\n",
    "# Using the same function for different shapes\n",
    "print_area(circle)    # Output: The area of the Circle is: 78.54\n",
    "print_area(rectangle) # Output: The area of the Rectangle is: 24.00\n",
    "print_area(triangle)"
   ]
  },
  {
   "cell_type": "markdown",
   "id": "d18fda8a-2537-4158-ac02-ea32cfe9386f",
   "metadata": {},
   "source": [
    "Q10>>Implement encapsulation in a `BankAccount` class with private attributes for `balance` and\n",
    "`account_number`. Include methods for deposit, withdrawal, and balance inquiry."
   ]
  },
  {
   "cell_type": "code",
   "execution_count": 14,
   "id": "24a7e237-f3b9-4da9-8d02-062b2f15e10f",
   "metadata": {},
   "outputs": [
    {
     "name": "stdout",
     "output_type": "stream",
     "text": [
      "Deposited $500.00. New balance: $1500.00\n",
      "Withdrew $200.00. New balance: $1300.00\n",
      "Insufficient balance.\n",
      "Current balance: $1300.00\n",
      "Account Number: 123456789\n"
     ]
    }
   ],
   "source": [
    "class BankAccount:\n",
    "    def __init__(self, account_number, initial_balance=0):\n",
    "        \"\"\"Initialize the BankAccount with a private balance and account number.\"\"\"\n",
    "        self.__account_number = account_number  # Private attribute\n",
    "        self.__balance = initial_balance        # Private attribute\n",
    "\n",
    "    def deposit(self, amount):\n",
    "        \"\"\"Deposit money into the account.\"\"\"\n",
    "        if amount > 0:\n",
    "            self.__balance += amount\n",
    "            print(f\"Deposited ${amount:.2f}. New balance: ${self.__balance:.2f}\")\n",
    "        else:\n",
    "            print(\"Deposit amount must be positive.\")\n",
    "\n",
    "    def withdraw(self, amount):\n",
    "        \"\"\"Withdraw money from the account if sufficient balance is available.\"\"\"\n",
    "        if 0 < amount <= self.__balance:\n",
    "            self.__balance -= amount\n",
    "            print(f\"Withdrew ${amount:.2f}. New balance: ${self.__balance:.2f}\")\n",
    "        elif amount > self.__balance:\n",
    "            print(\"Insufficient balance.\")\n",
    "        else:\n",
    "            print(\"Withdrawal amount must be positive.\")\n",
    "\n",
    "    def get_balance(self):\n",
    "        \"\"\"Return the current balance.\"\"\"\n",
    "        return self.__balance\n",
    "\n",
    "    def get_account_number(self):\n",
    "        \"\"\"Return the account number.\"\"\"\n",
    "        return self.__account_number\n",
    "\n",
    "# Example usage:\n",
    "account = BankAccount(\"123456789\", 1000)\n",
    "\n",
    "# Depositing money\n",
    "account.deposit(500)  \n",
    "\n",
    "# Withdrawing money\n",
    "account.withdraw(200) \n",
    "account.withdraw(1500) \n",
    "\n",
    "# Checking balance\n",
    "print(f\"Current balance: ${account.get_balance():.2f}\")  \n",
    "\n",
    "# Accessing account number\n",
    "print(f\"Account Number: {account.get_account_number()}\") "
   ]
  },
  {
   "cell_type": "markdown",
   "id": "b2b3c116-2dce-4e35-b05d-97c2e3803313",
   "metadata": {},
   "source": [
    "Q11>>Write a class that overrides the `__str__` and `__add__` magic methods. What will these methods allow\n",
    "you to do?"
   ]
  },
  {
   "cell_type": "code",
   "execution_count": 15,
   "id": "376a1365-c2d7-44da-aa62-9c94de16898e",
   "metadata": {},
   "outputs": [
    {
     "name": "stdout",
     "output_type": "stream",
     "text": [
      "'1984' by George Orwell, 328 pages\n",
      "Combined book has 596 pages.\n"
     ]
    }
   ],
   "source": [
    "class Book:\n",
    "    def __init__(self, title, author, pages):\n",
    "        self.title = title\n",
    "        self.author = author\n",
    "        self.pages = pages\n",
    "\n",
    "    def __str__(self):\n",
    "        \"\"\"Overrides the str() function to return a string representation of the object.\"\"\"\n",
    "        return f\"'{self.title}' by {self.author}, {self.pages} pages\"\n",
    "\n",
    "    def __add__(self, other):\n",
    "        \"\"\"Overrides the + operator to add two Book objects.\"\"\"\n",
    "        if isinstance(other, Book):\n",
    "            total_pages = self.pages + other.pages\n",
    "            return f\"Combined book has {total_pages} pages.\"\n",
    "        return NotImplemented\n",
    "\n",
    "# Example usage:\n",
    "book1 = Book(\"1984\", \"George Orwell\", 328)\n",
    "book2 = Book(\"Brave New World\", \"Aldous Huxley\", 268)\n",
    "\n",
    "# Using the __str__ method\n",
    "print(book1)  # Output: '1984' by George Orwell, 328 pages\n",
    "\n",
    "# Using the __add__ method\n",
    "print(book1 + book2)  "
   ]
  },
  {
   "cell_type": "markdown",
   "id": "df112dd8-6d0a-4973-ab92-e0f8251f92cb",
   "metadata": {},
   "source": [
    "Q12>>Create a decorator that measures and prints the execution time of a function."
   ]
  },
  {
   "cell_type": "code",
   "execution_count": 17,
   "id": "0eb908c1-61e8-4c82-88b4-d311b00a5806",
   "metadata": {},
   "outputs": [
    {
     "name": "stdout",
     "output_type": "stream",
     "text": [
      "Function finished.\n",
      "Execution time: 1.0010 seconds\n"
     ]
    }
   ],
   "source": [
    "import time\n",
    "\n",
    "def measure_time(func):\n",
    "    def wrapper(*args, **kwargs):\n",
    "        start = time.time()  # Start time\n",
    "        result = func(*args, **kwargs)  # Execute the function\n",
    "        end = time.time()  # End time\n",
    "        print(f\"Execution time: {end - start:.4f} seconds\")\n",
    "        return result\n",
    "    return wrapper\n",
    "\n",
    "# Example usage:\n",
    "@measure_time\n",
    "def example_function():\n",
    "    time.sleep(1)  # Simulate a 1-second delay\n",
    "    print(\"Function finished.\")\n",
    "\n",
    "# Call the decorated function\n",
    "example_function()\n"
   ]
  },
  {
   "cell_type": "markdown",
   "id": "5830903a-3971-4348-8112-6dcfc48f55c3",
   "metadata": {},
   "source": [
    " Q13>>Explain the concept of the Diamond Problem in multiple inheritance. How does Python resolve it?"
   ]
  },
  {
   "cell_type": "markdown",
   "id": "c82a5e3f-4d0c-4edc-a43c-16e802d79222",
   "metadata": {},
   "source": [
    "\n",
    "The Diamond Problem in Multiple Inheritance\n",
    "The Diamond Problem occurs in multiple inheritance when a class inherits from two classes that both inherit from the same base class. This creates an ambiguity in the inheritance hierarchy, specifically about which version of a method or attribute from the base class should be inherited."
   ]
  },
  {
   "cell_type": "markdown",
   "id": "db6ab421-73ac-4e03-b526-b5218e25bd0e",
   "metadata": {},
   "source": [
    "How Python Resolves the Diamond Problem\n",
    "Python resolves the Diamond Problem using the C3 Linearization Algorithm (also called MRO - Method Resolution Order). This algorithm creates a deterministic and consistent order in which classes are searched for methods and attributes."
   ]
  },
  {
   "cell_type": "code",
   "execution_count": 19,
   "id": "955e94d4-b06d-4ed9-84db-309af5886b64",
   "metadata": {},
   "outputs": [
    {
     "name": "stdout",
     "output_type": "stream",
     "text": [
      "[<class '__main__.D'>, <class '__main__.B'>, <class '__main__.C'>, <class '__main__.A'>, <class 'object'>]\n",
      "B\n"
     ]
    }
   ],
   "source": [
    "class A:\n",
    "    def show(self):\n",
    "        print(\"A\")\n",
    "\n",
    "class B(A):\n",
    "    def show(self):\n",
    "        print(\"B\")\n",
    "\n",
    "class C(A):\n",
    "    def show(self):\n",
    "        print(\"C\")\n",
    "\n",
    "class D(B, C):\n",
    "    pass\n",
    "\n",
    "# MRO of class D\n",
    "print(D.mro())  # Output: [<class '__main__.D'>, <class '__main__.B'>, <class '__main__.C'>, <class '__main__.A'>, <class 'object'>]\n",
    "\n",
    "# Example usage:\n",
    "d = D()\n",
    "d.show()\n",
    "\n"
   ]
  },
  {
   "cell_type": "markdown",
   "id": "ff42227f-a831-4434-b60a-fe8daf5749e3",
   "metadata": {},
   "source": [
    "Q14>>Write a class method that keeps track of the number of instances created from a class."
   ]
  },
  {
   "cell_type": "code",
   "execution_count": 20,
   "id": "8cd4833c-7f5a-48e6-a18c-164b493930c4",
   "metadata": {},
   "outputs": [
    {
     "name": "stdout",
     "output_type": "stream",
     "text": [
      "Number of instances created: 3\n"
     ]
    }
   ],
   "source": [
    "class InstanceCounter:\n",
    "    _instance_count = 0  # Class-level variable to track instance count\n",
    "\n",
    "    def __init__(self):\n",
    "        \"\"\"Increment the instance count each time an object is created.\"\"\"\n",
    "        InstanceCounter._instance_count += 1\n",
    "\n",
    "    @classmethod\n",
    "    def get_instance_count(cls):\n",
    "        \"\"\"Class method to return the current instance count.\"\"\"\n",
    "        return cls._instance_count\n",
    "\n",
    "# Example usage:\n",
    "obj1 = InstanceCounter()\n",
    "obj2 = InstanceCounter()\n",
    "obj3 = InstanceCounter()\n",
    "\n",
    "print(f\"Number of instances created: {InstanceCounter.get_instance_count()}\")"
   ]
  },
  {
   "cell_type": "markdown",
   "id": "73d4c916-804f-4b76-b356-7fd2cb7c0cb1",
   "metadata": {},
   "source": [
    "Q15>>Implement a static method in a class that checks if a given year is a leap year."
   ]
  },
  {
   "cell_type": "code",
   "execution_count": 21,
   "id": "564389b8-e4e0-4f52-ac4d-205e8586e601",
   "metadata": {},
   "outputs": [
    {
     "name": "stdout",
     "output_type": "stream",
     "text": [
      "True\n",
      "False\n",
      "True\n"
     ]
    }
   ],
   "source": [
    "class DateUtils:\n",
    "    @staticmethod\n",
    "    def is_leap_year(year):\n",
    "        \"\"\"Check if a given year is a leap year.\"\"\"\n",
    "        if (year % 4 == 0 and year % 100 != 0) or (year % 400 == 0):\n",
    "            return True\n",
    "        return False\n",
    "\n",
    "# Example usage:\n",
    "print(DateUtils.is_leap_year(2024))  # Output: True (2024 is a leap year)\n",
    "print(DateUtils.is_leap_year(1900))  # Output: False (1900 is not a leap year)\n",
    "print(DateUtils.is_leap_year(2000))"
   ]
  },
  {
   "cell_type": "code",
   "execution_count": null,
   "id": "5940489b-ac26-46b2-ac70-08c6d2067057",
   "metadata": {},
   "outputs": [],
   "source": []
  }
 ],
 "metadata": {
  "kernelspec": {
   "display_name": "Python 3 (ipykernel)",
   "language": "python",
   "name": "python3"
  },
  "language_info": {
   "codemirror_mode": {
    "name": "ipython",
    "version": 3
   },
   "file_extension": ".py",
   "mimetype": "text/x-python",
   "name": "python",
   "nbconvert_exporter": "python",
   "pygments_lexer": "ipython3",
   "version": "3.13.0"
  }
 },
 "nbformat": 4,
 "nbformat_minor": 5
}
